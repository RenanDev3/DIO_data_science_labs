{
 "cells": [
  {
   "cell_type": "markdown",
   "metadata": {},
   "source": [
    "# Imports"
   ]
  },
  {
   "cell_type": "code",
   "execution_count": 47,
   "metadata": {},
   "outputs": [],
   "source": [
    "import requests\n",
    "from bs4 import BeautifulSoup\n",
    "import sqlite3 as sql3\n",
    "from datetime import datetime"
   ]
  },
  {
   "cell_type": "markdown",
   "metadata": {},
   "source": [
    "# First step: Extract data using web scraping"
   ]
  },
  {
   "cell_type": "code",
   "execution_count": 37,
   "metadata": {},
   "outputs": [],
   "source": [
    "# create a variable to store the link that will be scrapped\n",
    "stock_target = \"TSLA\"\n",
    "base_url = \"https://finance.yahoo.com/quote/\""
   ]
  },
  {
   "cell_type": "code",
   "execution_count": 38,
   "metadata": {},
   "outputs": [
    {
     "name": "stdout",
     "output_type": "stream",
     "text": [
      "200\n"
     ]
    }
   ],
   "source": [
    "# get data from the page using requests library\n",
    "raw_data = requests.get(base_url + stock_target)\n",
    "\n",
    "# verify if the request worked: status 200 means success\n",
    "print(raw_data.status_code)\n"
   ]
  },
  {
   "cell_type": "code",
   "execution_count": 43,
   "metadata": {},
   "outputs": [],
   "source": [
    "# since it retrieves a lot of data, store it in a html file to analyze, makes it easier\n",
    "with open('html_code.html', 'w') as f:\n",
    "    f.write(raw_data.text)"
   ]
  },
  {
   "cell_type": "markdown",
   "metadata": {},
   "source": [
    "# Transform"
   ]
  },
  {
   "cell_type": "code",
   "execution_count": 39,
   "metadata": {},
   "outputs": [],
   "source": [
    "soup = BeautifulSoup(raw_data.text, 'html.parser')"
   ]
  },
  {
   "cell_type": "code",
   "execution_count": 45,
   "metadata": {},
   "outputs": [
    {
     "name": "stdout",
     "output_type": "stream",
     "text": [
      "254.85\n"
     ]
    }
   ],
   "source": [
    "# analyzying the raw data, the stock price is inside a <span> that is inside a <fin-streamer> tag\n",
    "# the specific <fin-streamer> tag that holds the price has this specific attribute: data-test=\"qsp-price\"\n",
    "fin_streamers_tag_value = soup.find_all('fin-streamer', {'data-test': 'qsp-price'})\n",
    "\n",
    "# storing the stock price in a variable\n",
    "stock_price = fin_streamers_tag_value[0].text\n",
    "\n",
    "# verifying if it worked\n",
    "print(stock_price)"
   ]
  },
  {
   "cell_type": "markdown",
   "metadata": {},
   "source": [
    "# Load"
   ]
  },
  {
   "cell_type": "code",
   "execution_count": 48,
   "metadata": {},
   "outputs": [],
   "source": [
    "# I will store the data using the native SQLite database of Python, because it doesn't require any extra installation\n",
    "conn = sql3.connect('stock_prices.db')\n",
    "cursor = conn.cursor()"
   ]
  },
  {
   "cell_type": "code",
   "execution_count": 50,
   "metadata": {},
   "outputs": [
    {
     "data": {
      "text/plain": [
       "<sqlite3.Cursor at 0x23768243650>"
      ]
     },
     "execution_count": 50,
     "metadata": {},
     "output_type": "execute_result"
    }
   ],
   "source": [
    "# create table if doesn't exist\n",
    "cursor.execute('''\n",
    "    CREATE TABLE IF NOT EXISTS stock_data (\n",
    "        id INTEGER PRIMARY KEY,\n",
    "        symbol TEXT NOT NULL,\n",
    "        price REAL NOT NULL,\n",
    "        timestamp DATETIME NOT NULL\n",
    "    )\n",
    "''')"
   ]
  },
  {
   "cell_type": "code",
   "execution_count": 54,
   "metadata": {},
   "outputs": [
    {
     "data": {
      "text/plain": [
       "<sqlite3.Cursor at 0x23768243650>"
      ]
     },
     "execution_count": 54,
     "metadata": {},
     "output_type": "execute_result"
    }
   ],
   "source": [
    "# prepare the SQL command string to be insert the new value\n",
    "# sql_string = f\"INSERT INTO stock_data (symbol, price, timestamp) VALUES ({stock_target}, {stock_price}, {datetime.now()})\"\n",
    "\n",
    "# execute the command\n",
    "cursor.execute('INSERT INTO stock_data (symbol, price, timestamp) VALUES (?, ?, ?)', (stock_target, stock_price, datetime.now()))"
   ]
  },
  {
   "cell_type": "code",
   "execution_count": 58,
   "metadata": {},
   "outputs": [
    {
     "name": "stdout",
     "output_type": "stream",
     "text": [
      "[(1, 'TSLA', 254.85, '2023-10-17 17:45:07.646911')]\n"
     ]
    }
   ],
   "source": [
    "# retrieving the data to verify of it worked\n",
    "\n",
    "data = cursor.execute('SELECT * FROM stock_data')\n",
    "print([row for row in data])"
   ]
  }
 ],
 "metadata": {
  "kernelspec": {
   "display_name": "venv",
   "language": "python",
   "name": "python3"
  },
  "language_info": {
   "codemirror_mode": {
    "name": "ipython",
    "version": 3
   },
   "file_extension": ".py",
   "mimetype": "text/x-python",
   "name": "python",
   "nbconvert_exporter": "python",
   "pygments_lexer": "ipython3",
   "version": "3.8.10"
  }
 },
 "nbformat": 4,
 "nbformat_minor": 2
}
